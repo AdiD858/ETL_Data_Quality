{
 "cells": [
  {
   "cell_type": "code",
   "execution_count": 1,
   "id": "bd73ebd8-b1b9-48b5-b745-b6a942b7bdc9",
   "metadata": {},
   "outputs": [],
   "source": [
    "from pyspark.sql import SparkSession\n",
    "from pyspark.sql.functions import col, count, when, isnan, countDistinct,sum\n",
    "import pyspark.sql.functions as F\n",
    "import pandas as pd"
   ]
  },
  {
   "cell_type": "code",
   "execution_count": 2,
   "id": "65c36b9f-ba7d-428f-bad6-8f456fdfe6bc",
   "metadata": {},
   "outputs": [],
   "source": [
    "spark = SparkSession.builder.appName(\"LoanDataQuality\").getOrCreate()"
   ]
  },
  {
   "cell_type": "code",
   "execution_count": 4,
   "id": "b3cf3dff-45a0-4e8f-9020-10374db5a1c0",
   "metadata": {},
   "outputs": [],
   "source": [
    "df_loans = spark.read.option('header','true').csv(\"LCloan_raw_data.csv\")"
   ]
  },
  {
   "cell_type": "code",
   "execution_count": 5,
   "id": "983fcd73-e0af-4a76-8d7b-dbf665716fd7",
   "metadata": {},
   "outputs": [],
   "source": [
    "from PySpark_testing import *\n",
    "from PySpark_testing import check_consistency"
   ]
  },
  {
   "cell_type": "code",
   "execution_count": 6,
   "id": "a249f2dc-21b5-41fc-a7eb-f3e290b9f14c",
   "metadata": {},
   "outputs": [],
   "source": [
    "full_mapping = pd.read_csv(\"full_mapping.csv\")"
   ]
  },
  {
   "cell_type": "code",
   "execution_count": 17,
   "id": "71cdce2c-d583-4c8f-ac97-177e6931ed67",
   "metadata": {},
   "outputs": [],
   "source": [
    "focused_mapping= pd.read_csv('focused_mapping.csv')"
   ]
  },
  {
   "cell_type": "code",
   "execution_count": 19,
   "id": "303fa2d4-6a99-4064-8958-69955ea985a1",
   "metadata": {},
   "outputs": [
    {
     "name": "stdout",
     "output_type": "stream",
     "text": [
      "1            acc_open_past_24mths\n",
      "10       chargeoff_within_12_mths\n",
      "12     collections_12_mths_ex_med\n",
      "40           mo_sin_old_rev_tl_op\n",
      "52                   next_pymnt_d\n",
      "63               num_tl_120dpd_2m\n",
      "64                   num_tl_30dpd\n",
      "65             num_tl_90g_dpd_24m\n",
      "66             num_tl_op_past_12m\n",
      "68                    open_acc_6m\n",
      "72                    open_rv_12m\n",
      "73                    open_rv_24m\n",
      "122               hardship_status\n",
      "124               hardship_amount\n",
      "125           hardship_start_date\n",
      "126             hardship_end_date\n",
      "127       payment_plan_start_date\n",
      "128               hardship_length\n",
      "129                  hardship_dpd\n",
      "138               settlement_date\n",
      "141               settlement_term\n",
      "146      chargeoff_within_12_mths\n",
      "147    collections_12_mths_ex_med\n",
      "158          mo_sin_old_rev_tl_op\n",
      "173              num_tl_120dpd_2m\n",
      "174                  num_tl_30dpd\n",
      "175            num_tl_90g_dpd_24m\n",
      "176            num_tl_op_past_12m\n",
      "177                   open_acc_6m\n",
      "181                   open_rv_12m\n",
      "182                   open_rv_24m\n",
      "Name: column_name, dtype: object\n"
     ]
    }
   ],
   "source": [
    "filtered_df = focused_mapping[focused_mapping['test_function'].apply(lambda x: 'validate_date_format' in x)]\n",
    "print(filtered_df['column_name'])"
   ]
  },
  {
   "cell_type": "code",
   "execution_count": 21,
   "id": "4add71c7-0cd3-4471-959f-c631afbaf537",
   "metadata": {},
   "outputs": [],
   "source": [
    "df2 = spark.read.csv('new.csv', header=True, inferSchema=True)"
   ]
  },
  {
   "cell_type": "code",
   "execution_count": 52,
   "id": "465b098b-68f3-4d55-a183-e7bf46b2fa04",
   "metadata": {},
   "outputs": [],
   "source": [
    "#df2.columns"
   ]
  },
  {
   "cell_type": "markdown",
   "id": "1aaa650b-d881-42be-adce-c4f0bf2edf92",
   "metadata": {},
   "source": [
    "### functions validations before running\n"
   ]
  },
  {
   "cell_type": "code",
   "execution_count": 26,
   "id": "97c1e178-7046-4a70-b166-8a1c6e54d9e5",
   "metadata": {},
   "outputs": [
    {
     "data": {
      "text/plain": [
       "(False, 'Number of mismatched rows: 580119')"
      ]
     },
     "execution_count": 26,
     "metadata": {},
     "output_type": "execute_result"
    }
   ],
   "source": [
    "check_consistency(df_loans,df2, column='acc_open_past_24mths', key='addr_state')\n"
   ]
  },
  {
   "cell_type": "code",
   "execution_count": null,
   "id": "213fc613-e177-40e4-b941-4338981463c0",
   "metadata": {},
   "outputs": [],
   "source": [
    "check_foreign_key(df_loans, 'acc_now_delinq', df2, 'addr_state')"
   ]
  },
  {
   "cell_type": "code",
   "execution_count": 36,
   "id": "5235da9a-9cd2-46c2-86f8-654a16fb0102",
   "metadata": {},
   "outputs": [
    {
     "name": "stdout",
     "output_type": "stream",
     "text": [
      "All values in column 'addr_state' are consistent with the expected data type string.\n"
     ]
    },
    {
     "data": {
      "text/plain": [
       "(True, 0)"
      ]
     },
     "execution_count": 36,
     "metadata": {},
     "output_type": "execute_result"
    }
   ],
   "source": [
    "dtype_consistency(df_loans,'addr_state', 'string') "
   ]
  },
  {
   "cell_type": "code",
   "execution_count": 50,
   "id": "dddf48d8-06c9-4ee8-90bf-1649841f0edf",
   "metadata": {},
   "outputs": [
    {
     "data": {
      "text/plain": [
       "(False,\n",
       " \"1826460 values in 'funded_amnt' are out of range. Values below minimum (2290): 50143,values above maximum (7000): 1776317.\")"
      ]
     },
     "execution_count": 50,
     "metadata": {},
     "output_type": "execute_result"
    }
   ],
   "source": [
    "validate_numeric_range(df_loans, 'funded_amnt', 2290, 7000)"
   ]
  },
  {
   "cell_type": "code",
   "execution_count": null,
   "id": "d561dc24-dec0-4f96-b086-c48d608e27d3",
   "metadata": {},
   "outputs": [],
   "source": [
    "validate_values_length(df,column_name, data_type)"
   ]
  },
  {
   "cell_type": "code",
   "execution_count": null,
   "id": "4cc7ae08-0f98-4097-b5b4-0c892974b0c6",
   "metadata": {},
   "outputs": [],
   "source": [
    "validate_allowed_values(df: DataFrame, column_name: str, allowed_values: list)"
   ]
  },
  {
   "cell_type": "code",
   "execution_count": null,
   "id": "5d4e8b91-e068-45b6-9128-1cd4fc44053d",
   "metadata": {},
   "outputs": [],
   "source": [
    "file_timeliness(file_path, hours_threshold=24)"
   ]
  },
  {
   "cell_type": "code",
   "execution_count": null,
   "id": "ada11165-1cb2-4f63-9f17-0905bfff7f23",
   "metadata": {},
   "outputs": [],
   "source": [
    " validate_date_range(df, column, duration, time_unit)"
   ]
  },
  {
   "cell_type": "code",
   "execution_count": null,
   "id": "20121969-1c06-4171-913c-94201f7836cc",
   "metadata": {},
   "outputs": [],
   "source": [
    "moving_average(df, column, partitioned_column,date_column, tolerance_deviation, window_size):"
   ]
  },
  {
   "cell_type": "code",
   "execution_count": 46,
   "id": "b6dc5d70-6aed-4856-8b71-dcb4509c17ae",
   "metadata": {},
   "outputs": [
    {
     "data": {
      "text/plain": [
       "Column<'funded_amnt[0]'>"
      ]
     },
     "execution_count": 46,
     "metadata": {},
     "output_type": "execute_result"
    }
   ],
   "source": []
  },
  {
   "cell_type": "markdown",
   "id": "2336e9b2-8cdd-41aa-8aba-f522e1f5ef7f",
   "metadata": {},
   "source": [
    "### creating the operational table"
   ]
  },
  {
   "cell_type": "code",
   "execution_count": 23,
   "id": "326bacd7-2a28-4ab9-b90c-9fc69e282453",
   "metadata": {},
   "outputs": [],
   "source": [
    "operational_table = focused_mapping.copy()"
   ]
  },
  {
   "cell_type": "code",
   "execution_count": 25,
   "id": "b37b8b16-0064-4de5-b537-6b7222213691",
   "metadata": {},
   "outputs": [],
   "source": [
    "# all the tests will be enabled by default at first\n",
    "operational_table['enabled'] = True"
   ]
  },
  {
   "cell_type": "code",
   "execution_count": 29,
   "id": "20b0c8b5-c086-4a1b-bf20-a9c910bd19ee",
   "metadata": {},
   "outputs": [],
   "source": [
    "# logic for all validation test type to be critical \n",
    "operational_table['critical'] = operational_table['test_type'].apply(\n",
    "    lambda types: 'validation' in types)"
   ]
  },
  {
   "cell_type": "code",
   "execution_count": 31,
   "id": "80e66af1-8fcf-450b-9ac1-1a8e3e93db57",
   "metadata": {},
   "outputs": [],
   "source": [
    "exploded = operational_table.explode('test_function').reset_index(drop=True)"
   ]
  },
  {
   "cell_type": "code",
   "execution_count": 33,
   "id": "c56c9b68-37ab-4fd4-adf5-02538697cae5",
   "metadata": {},
   "outputs": [],
   "source": [
    "final_cols = [\n",
    "    'column_name',\n",
    "    'column_type',\n",
    "    'business_category',\n",
    "    'test_function',\n",
    "    'test_type',\n",
    "    'enabled',\n",
    "    'critical'\n",
    "]\n",
    "\n",
    "\n",
    "operational_table = exploded[final_cols]"
   ]
  },
  {
   "cell_type": "code",
   "execution_count": 35,
   "id": "311ccd62-ea10-443f-a812-eac39b6814bd",
   "metadata": {},
   "outputs": [],
   "source": [
    "operational_table.to_csv('operational_table.csv', index=False)"
   ]
  },
  {
   "cell_type": "code",
   "execution_count": null,
   "id": "c38eb582-359b-4bab-b52d-366c4f67ddec",
   "metadata": {},
   "outputs": [],
   "source": []
  }
 ],
 "metadata": {
  "kernelspec": {
   "display_name": "Python 3 (ipykernel)",
   "language": "python",
   "name": "python3"
  },
  "language_info": {
   "codemirror_mode": {
    "name": "ipython",
    "version": 3
   },
   "file_extension": ".py",
   "mimetype": "text/x-python",
   "name": "python",
   "nbconvert_exporter": "python",
   "pygments_lexer": "ipython3",
   "version": "3.12.4"
  }
 },
 "nbformat": 4,
 "nbformat_minor": 5
}
