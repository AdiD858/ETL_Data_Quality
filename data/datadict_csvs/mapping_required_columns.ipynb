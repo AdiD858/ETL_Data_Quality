{
 "cells": [
  {
   "cell_type": "code",
   "execution_count": 7,
   "id": "adfd3c3a-8aaf-4298-8556-8e8b96547ea7",
   "metadata": {},
   "outputs": [],
   "source": [
    "import pandas as pd\n",
    "\n",
    "#xls = pd.ExcelFile(\"LCDataDictionary.xlsx\")\n",
    "#df_dict_all = pd.concat([xls.parse(sheet) for sheet in xls.sheet_names], ignore_index=True)"
   ]
  },
  {
   "cell_type": "code",
   "execution_count": 43,
   "id": "0c99973f-3170-4881-b57f-13a6abf8acbc",
   "metadata": {},
   "outputs": [],
   "source": [
    "from pyspark.sql import SparkSession\n",
    "from pyspark.sql.functions import col, count, when, isnan, countDistinct"
   ]
  },
  {
   "cell_type": "code",
   "execution_count": 11,
   "id": "be4465a8-d53f-43fd-825c-84892168dba5",
   "metadata": {},
   "outputs": [],
   "source": [
    "spark = SparkSession.builder.getOrCreate()\n",
    "df_loans = spark.read.csv(\"LCloan_raw_data.csv\", header=True, inferSchema=True)"
   ]
  },
  {
   "cell_type": "markdown",
   "id": "f9565e9c-7179-41ba-b3c9-7df51d938b5f",
   "metadata": {},
   "source": [
    "## Mapped file: \n",
    "### df_all.csv - combination of data dict sheets with their dtypes"
   ]
  },
  {
   "cell_type": "markdown",
   "id": "c13a8166-7dba-4c1e-8446-2361476f6641",
   "metadata": {},
   "source": [
    "### The goal in this doc: Mapping the relevant columns for testing -required"
   ]
  },
  {
   "cell_type": "code",
   "execution_count": 17,
   "id": "edc2a54f-53d6-47a5-a919-3b38a34ec659",
   "metadata": {},
   "outputs": [],
   "source": [
    "df_all =pd.read_csv('mapping_updated.csv')"
   ]
  },
  {
   "cell_type": "code",
   "execution_count": 19,
   "id": "3aeffc6e-111c-4dc2-adac-10c070d7edcb",
   "metadata": {},
   "outputs": [
    {
     "data": {
      "text/html": [
       "<div>\n",
       "<style scoped>\n",
       "    .dataframe tbody tr th:only-of-type {\n",
       "        vertical-align: middle;\n",
       "    }\n",
       "\n",
       "    .dataframe tbody tr th {\n",
       "        vertical-align: top;\n",
       "    }\n",
       "\n",
       "    .dataframe thead th {\n",
       "        text-align: right;\n",
       "    }\n",
       "</style>\n",
       "<table border=\"1\" class=\"dataframe\">\n",
       "  <thead>\n",
       "    <tr style=\"text-align: right;\">\n",
       "      <th></th>\n",
       "      <th>column_name</th>\n",
       "      <th>Description</th>\n",
       "      <th>source_sheet</th>\n",
       "      <th>type_status</th>\n",
       "      <th>column_name_fixed</th>\n",
       "      <th>column_type</th>\n",
       "    </tr>\n",
       "  </thead>\n",
       "  <tbody>\n",
       "    <tr>\n",
       "      <th>0</th>\n",
       "      <td>amount requested</td>\n",
       "      <td>The total amount requested by the borrower</td>\n",
       "      <td>RejectStats</td>\n",
       "      <td>missing</td>\n",
       "      <td>amount requested</td>\n",
       "      <td>NaN</td>\n",
       "    </tr>\n",
       "    <tr>\n",
       "      <th>1</th>\n",
       "      <td>application date</td>\n",
       "      <td>The date which the borrower applied</td>\n",
       "      <td>RejectStats</td>\n",
       "      <td>missing</td>\n",
       "      <td>application date</td>\n",
       "      <td>NaN</td>\n",
       "    </tr>\n",
       "    <tr>\n",
       "      <th>2</th>\n",
       "      <td>loan title</td>\n",
       "      <td>The loan title provided by the borrower</td>\n",
       "      <td>RejectStats</td>\n",
       "      <td>missing</td>\n",
       "      <td>loan title</td>\n",
       "      <td>NaN</td>\n",
       "    </tr>\n",
       "    <tr>\n",
       "      <th>3</th>\n",
       "      <td>risk_score</td>\n",
       "      <td>For applications prior to November 5, 2013 the...</td>\n",
       "      <td>RejectStats</td>\n",
       "      <td>missing</td>\n",
       "      <td>risk_score</td>\n",
       "      <td>NaN</td>\n",
       "    </tr>\n",
       "    <tr>\n",
       "      <th>4</th>\n",
       "      <td>debt-to-income ratio</td>\n",
       "      <td>A ratio calculated using the borrower’s total ...</td>\n",
       "      <td>RejectStats</td>\n",
       "      <td>missing</td>\n",
       "      <td>debt-to-income ratio</td>\n",
       "      <td>NaN</td>\n",
       "    </tr>\n",
       "    <tr>\n",
       "      <th>...</th>\n",
       "      <td>...</td>\n",
       "      <td>...</td>\n",
       "      <td>...</td>\n",
       "      <td>...</td>\n",
       "      <td>...</td>\n",
       "      <td>...</td>\n",
       "    </tr>\n",
       "    <tr>\n",
       "      <th>275</th>\n",
       "      <td>sec_app_num_rev_accts</td>\n",
       "      <td>Number of revolving accounts at time of appli...</td>\n",
       "      <td>BrowseNotes</td>\n",
       "      <td>found</td>\n",
       "      <td>sec_app_num_rev_accts</td>\n",
       "      <td>int</td>\n",
       "    </tr>\n",
       "    <tr>\n",
       "      <th>276</th>\n",
       "      <td>sec_app_chargeoff_within_12_mths</td>\n",
       "      <td>Number of charge-offs within last 12 months a...</td>\n",
       "      <td>BrowseNotes</td>\n",
       "      <td>found</td>\n",
       "      <td>sec_app_chargeoff_within_12_mths</td>\n",
       "      <td>int</td>\n",
       "    </tr>\n",
       "    <tr>\n",
       "      <th>277</th>\n",
       "      <td>sec_app_collections_12_mths_ex_med</td>\n",
       "      <td>Number of collections within last 12 months e...</td>\n",
       "      <td>BrowseNotes</td>\n",
       "      <td>found</td>\n",
       "      <td>sec_app_collections_12_mths_ex_med</td>\n",
       "      <td>int</td>\n",
       "    </tr>\n",
       "    <tr>\n",
       "      <th>278</th>\n",
       "      <td>sec_app_mths_since_last_major_derog</td>\n",
       "      <td>Months since most recent 90-day or worse rati...</td>\n",
       "      <td>BrowseNotes</td>\n",
       "      <td>found</td>\n",
       "      <td>sec_app_mths_since_last_major_derog</td>\n",
       "      <td>int</td>\n",
       "    </tr>\n",
       "    <tr>\n",
       "      <th>279</th>\n",
       "      <td>disbursement_method</td>\n",
       "      <td>The method by which the borrower receives thei...</td>\n",
       "      <td>BrowseNotes</td>\n",
       "      <td>found</td>\n",
       "      <td>disbursement_method</td>\n",
       "      <td>string</td>\n",
       "    </tr>\n",
       "  </tbody>\n",
       "</table>\n",
       "<p>280 rows × 6 columns</p>\n",
       "</div>"
      ],
      "text/plain": [
       "                             column_name  \\\n",
       "0                       amount requested   \n",
       "1                       application date   \n",
       "2                             loan title   \n",
       "3                             risk_score   \n",
       "4                   debt-to-income ratio   \n",
       "..                                   ...   \n",
       "275                sec_app_num_rev_accts   \n",
       "276     sec_app_chargeoff_within_12_mths   \n",
       "277   sec_app_collections_12_mths_ex_med   \n",
       "278  sec_app_mths_since_last_major_derog   \n",
       "279                  disbursement_method   \n",
       "\n",
       "                                           Description source_sheet  \\\n",
       "0           The total amount requested by the borrower  RejectStats   \n",
       "1                 The date which the borrower applied   RejectStats   \n",
       "2              The loan title provided by the borrower  RejectStats   \n",
       "3    For applications prior to November 5, 2013 the...  RejectStats   \n",
       "4    A ratio calculated using the borrower’s total ...  RejectStats   \n",
       "..                                                 ...          ...   \n",
       "275   Number of revolving accounts at time of appli...  BrowseNotes   \n",
       "276   Number of charge-offs within last 12 months a...  BrowseNotes   \n",
       "277   Number of collections within last 12 months e...  BrowseNotes   \n",
       "278   Months since most recent 90-day or worse rati...  BrowseNotes   \n",
       "279  The method by which the borrower receives thei...  BrowseNotes   \n",
       "\n",
       "    type_status                    column_name_fixed column_type  \n",
       "0       missing                     amount requested         NaN  \n",
       "1       missing                     application date         NaN  \n",
       "2       missing                           loan title         NaN  \n",
       "3       missing                           risk_score         NaN  \n",
       "4       missing                 debt-to-income ratio         NaN  \n",
       "..          ...                                  ...         ...  \n",
       "275       found                sec_app_num_rev_accts         int  \n",
       "276       found     sec_app_chargeoff_within_12_mths         int  \n",
       "277       found   sec_app_collections_12_mths_ex_med         int  \n",
       "278       found  sec_app_mths_since_last_major_derog         int  \n",
       "279       found                  disbursement_method      string  \n",
       "\n",
       "[280 rows x 6 columns]"
      ]
     },
     "execution_count": 19,
     "metadata": {},
     "output_type": "execute_result"
    }
   ],
   "source": [
    "df_all"
   ]
  },
  {
   "cell_type": "code",
   "execution_count": 21,
   "id": "5ea50f01-574d-404f-b1c8-816fc01de9f5",
   "metadata": {},
   "outputs": [],
   "source": [
    "df_all['is_required'] = True"
   ]
  },
  {
   "cell_type": "code",
   "execution_count": 23,
   "id": "5f0c6e8d-8cac-4439-9f8d-f98033b46fd6",
   "metadata": {},
   "outputs": [
    {
     "data": {
      "text/html": [
       "<div>\n",
       "<style scoped>\n",
       "    .dataframe tbody tr th:only-of-type {\n",
       "        vertical-align: middle;\n",
       "    }\n",
       "\n",
       "    .dataframe tbody tr th {\n",
       "        vertical-align: top;\n",
       "    }\n",
       "\n",
       "    .dataframe thead th {\n",
       "        text-align: right;\n",
       "    }\n",
       "</style>\n",
       "<table border=\"1\" class=\"dataframe\">\n",
       "  <thead>\n",
       "    <tr style=\"text-align: right;\">\n",
       "      <th></th>\n",
       "      <th>column_name</th>\n",
       "      <th>Description</th>\n",
       "      <th>source_sheet</th>\n",
       "      <th>type_status</th>\n",
       "      <th>column_name_fixed</th>\n",
       "      <th>column_type</th>\n",
       "      <th>is_required</th>\n",
       "    </tr>\n",
       "  </thead>\n",
       "  <tbody>\n",
       "    <tr>\n",
       "      <th>0</th>\n",
       "      <td>amount requested</td>\n",
       "      <td>The total amount requested by the borrower</td>\n",
       "      <td>RejectStats</td>\n",
       "      <td>missing</td>\n",
       "      <td>amount requested</td>\n",
       "      <td>NaN</td>\n",
       "      <td>True</td>\n",
       "    </tr>\n",
       "    <tr>\n",
       "      <th>1</th>\n",
       "      <td>application date</td>\n",
       "      <td>The date which the borrower applied</td>\n",
       "      <td>RejectStats</td>\n",
       "      <td>missing</td>\n",
       "      <td>application date</td>\n",
       "      <td>NaN</td>\n",
       "      <td>True</td>\n",
       "    </tr>\n",
       "    <tr>\n",
       "      <th>2</th>\n",
       "      <td>loan title</td>\n",
       "      <td>The loan title provided by the borrower</td>\n",
       "      <td>RejectStats</td>\n",
       "      <td>missing</td>\n",
       "      <td>loan title</td>\n",
       "      <td>NaN</td>\n",
       "      <td>True</td>\n",
       "    </tr>\n",
       "    <tr>\n",
       "      <th>3</th>\n",
       "      <td>risk_score</td>\n",
       "      <td>For applications prior to November 5, 2013 the...</td>\n",
       "      <td>RejectStats</td>\n",
       "      <td>missing</td>\n",
       "      <td>risk_score</td>\n",
       "      <td>NaN</td>\n",
       "      <td>True</td>\n",
       "    </tr>\n",
       "    <tr>\n",
       "      <th>4</th>\n",
       "      <td>debt-to-income ratio</td>\n",
       "      <td>A ratio calculated using the borrower’s total ...</td>\n",
       "      <td>RejectStats</td>\n",
       "      <td>missing</td>\n",
       "      <td>debt-to-income ratio</td>\n",
       "      <td>NaN</td>\n",
       "      <td>True</td>\n",
       "    </tr>\n",
       "    <tr>\n",
       "      <th>...</th>\n",
       "      <td>...</td>\n",
       "      <td>...</td>\n",
       "      <td>...</td>\n",
       "      <td>...</td>\n",
       "      <td>...</td>\n",
       "      <td>...</td>\n",
       "      <td>...</td>\n",
       "    </tr>\n",
       "    <tr>\n",
       "      <th>275</th>\n",
       "      <td>sec_app_num_rev_accts</td>\n",
       "      <td>Number of revolving accounts at time of appli...</td>\n",
       "      <td>BrowseNotes</td>\n",
       "      <td>found</td>\n",
       "      <td>sec_app_num_rev_accts</td>\n",
       "      <td>int</td>\n",
       "      <td>True</td>\n",
       "    </tr>\n",
       "    <tr>\n",
       "      <th>276</th>\n",
       "      <td>sec_app_chargeoff_within_12_mths</td>\n",
       "      <td>Number of charge-offs within last 12 months a...</td>\n",
       "      <td>BrowseNotes</td>\n",
       "      <td>found</td>\n",
       "      <td>sec_app_chargeoff_within_12_mths</td>\n",
       "      <td>int</td>\n",
       "      <td>True</td>\n",
       "    </tr>\n",
       "    <tr>\n",
       "      <th>277</th>\n",
       "      <td>sec_app_collections_12_mths_ex_med</td>\n",
       "      <td>Number of collections within last 12 months e...</td>\n",
       "      <td>BrowseNotes</td>\n",
       "      <td>found</td>\n",
       "      <td>sec_app_collections_12_mths_ex_med</td>\n",
       "      <td>int</td>\n",
       "      <td>True</td>\n",
       "    </tr>\n",
       "    <tr>\n",
       "      <th>278</th>\n",
       "      <td>sec_app_mths_since_last_major_derog</td>\n",
       "      <td>Months since most recent 90-day or worse rati...</td>\n",
       "      <td>BrowseNotes</td>\n",
       "      <td>found</td>\n",
       "      <td>sec_app_mths_since_last_major_derog</td>\n",
       "      <td>int</td>\n",
       "      <td>True</td>\n",
       "    </tr>\n",
       "    <tr>\n",
       "      <th>279</th>\n",
       "      <td>disbursement_method</td>\n",
       "      <td>The method by which the borrower receives thei...</td>\n",
       "      <td>BrowseNotes</td>\n",
       "      <td>found</td>\n",
       "      <td>disbursement_method</td>\n",
       "      <td>string</td>\n",
       "      <td>True</td>\n",
       "    </tr>\n",
       "  </tbody>\n",
       "</table>\n",
       "<p>280 rows × 7 columns</p>\n",
       "</div>"
      ],
      "text/plain": [
       "                             column_name  \\\n",
       "0                       amount requested   \n",
       "1                       application date   \n",
       "2                             loan title   \n",
       "3                             risk_score   \n",
       "4                   debt-to-income ratio   \n",
       "..                                   ...   \n",
       "275                sec_app_num_rev_accts   \n",
       "276     sec_app_chargeoff_within_12_mths   \n",
       "277   sec_app_collections_12_mths_ex_med   \n",
       "278  sec_app_mths_since_last_major_derog   \n",
       "279                  disbursement_method   \n",
       "\n",
       "                                           Description source_sheet  \\\n",
       "0           The total amount requested by the borrower  RejectStats   \n",
       "1                 The date which the borrower applied   RejectStats   \n",
       "2              The loan title provided by the borrower  RejectStats   \n",
       "3    For applications prior to November 5, 2013 the...  RejectStats   \n",
       "4    A ratio calculated using the borrower’s total ...  RejectStats   \n",
       "..                                                 ...          ...   \n",
       "275   Number of revolving accounts at time of appli...  BrowseNotes   \n",
       "276   Number of charge-offs within last 12 months a...  BrowseNotes   \n",
       "277   Number of collections within last 12 months e...  BrowseNotes   \n",
       "278   Months since most recent 90-day or worse rati...  BrowseNotes   \n",
       "279  The method by which the borrower receives thei...  BrowseNotes   \n",
       "\n",
       "    type_status                    column_name_fixed column_type  is_required  \n",
       "0       missing                     amount requested         NaN         True  \n",
       "1       missing                     application date         NaN         True  \n",
       "2       missing                           loan title         NaN         True  \n",
       "3       missing                           risk_score         NaN         True  \n",
       "4       missing                 debt-to-income ratio         NaN         True  \n",
       "..          ...                                  ...         ...          ...  \n",
       "275       found                sec_app_num_rev_accts         int         True  \n",
       "276       found     sec_app_chargeoff_within_12_mths         int         True  \n",
       "277       found   sec_app_collections_12_mths_ex_med         int         True  \n",
       "278       found  sec_app_mths_since_last_major_derog         int         True  \n",
       "279       found                  disbursement_method      string         True  \n",
       "\n",
       "[280 rows x 7 columns]"
      ]
     },
     "execution_count": 23,
     "metadata": {},
     "output_type": "execute_result"
    }
   ],
   "source": [
    "df_all"
   ]
  },
  {
   "cell_type": "markdown",
   "id": "18d01872-3e08-44fd-b842-a397b3355189",
   "metadata": {},
   "source": [
    "## empty columns \\with only null values will be: is_required=False"
   ]
  },
  {
   "cell_type": "code",
   "execution_count": 52,
   "id": "4a624348-9a6b-44fc-af7d-75893540b839",
   "metadata": {},
   "outputs": [],
   "source": [
    "loans_columns =df_loans.columns"
   ]
  },
  {
   "cell_type": "code",
   "execution_count": 45,
   "id": "dc4a6e47-bbd7-4121-8036-675838162481",
   "metadata": {},
   "outputs": [],
   "source": [
    "# חישוב סך ערכים שאינם null בכל עמודה\n",
    "non_null_counts = df_loans.select([\n",
    "    count(when(col(c).isNotNull(), c)).alias(c) for c in df_loans.columns\n",
    "]).collect()[0].asDict()\n"
   ]
  },
  {
   "cell_type": "code",
   "execution_count": 47,
   "id": "0ffb2cc0-a124-44dd-8751-4bc212c9d115",
   "metadata": {},
   "outputs": [],
   "source": [
    "empty_columns = [col for col, cnt in non_null_counts.items() if cnt == 0]"
   ]
  },
  {
   "cell_type": "code",
   "execution_count": 50,
   "id": "d0aef6ab-fe0c-450e-b893-f67339873c29",
   "metadata": {},
   "outputs": [
    {
     "data": {
      "text/plain": [
       "['id', 'member_id']"
      ]
     },
     "execution_count": 50,
     "metadata": {},
     "output_type": "execute_result"
    }
   ],
   "source": [
    "empty_columns"
   ]
  },
  {
   "cell_type": "code",
   "execution_count": 57,
   "id": "ed197c4c-8ad0-4640-b306-52d40ba32783",
   "metadata": {},
   "outputs": [],
   "source": [
    "df_all['is_required'] = df_all.apply(\n",
    "    lambda row: False if row['column_name'] not in loans_columns or row['column_name'] in empty_columns else row['is_required'],\n",
    "    axis=1\n",
    ")"
   ]
  },
  {
   "cell_type": "code",
   "execution_count": 65,
   "id": "21ee9630-ca11-4952-8d3a-20745d2b51ec",
   "metadata": {},
   "outputs": [],
   "source": [
    "df_all.to_csv(\"loans_mapping.csv\", index=False, encoding='utf-8')\n"
   ]
  },
  {
   "cell_type": "code",
   "execution_count": null,
   "id": "33e7a6f5-b7b1-4148-b7cc-d4b9da6ef137",
   "metadata": {},
   "outputs": [],
   "source": []
  },
  {
   "cell_type": "code",
   "execution_count": null,
   "id": "446deecd-51fb-49eb-84cb-8af44127702b",
   "metadata": {},
   "outputs": [],
   "source": []
  },
  {
   "cell_type": "code",
   "execution_count": null,
   "id": "c3fbccb7-fddd-4e4e-8e06-5fe20a9ed5e9",
   "metadata": {},
   "outputs": [],
   "source": []
  },
  {
   "cell_type": "code",
   "execution_count": null,
   "id": "f675d65e-95c0-4be7-afe7-7f6cf4c4de4d",
   "metadata": {},
   "outputs": [],
   "source": []
  },
  {
   "cell_type": "markdown",
   "id": "b34335f3-6969-4dce-ac36-fa858bf88b22",
   "metadata": {},
   "source": [
    "### Adding in the future:"
   ]
  },
  {
   "cell_type": "markdown",
   "id": "7ffb7359-dca9-49c7-9e05-9b048e901e5a",
   "metadata": {},
   "source": [
    "df_merged[\"test_function\"] = \"\"\n",
    "df_merged[\"test_type\"] = \"\"\n",
    "df_merged[\"required\"] = \"\"\n",
    "df_merged[\"business_category\"] = \"\"\n"
   ]
  },
  {
   "cell_type": "code",
   "execution_count": 61,
   "id": "f7486c0d-d9fc-4ace-b04f-e347021b3264",
   "metadata": {},
   "outputs": [],
   "source": [
    "def classify_column(description):\n",
    "    d = str(description).lower()\n",
    "    if 'income' in d or 'amount' in d or 'balance' in d:\n",
    "        return 'funds'\n",
    "    elif 'employer' in d or 'job' in d or 'title' in d:\n",
    "        return 'customer details'\n",
    "    elif 'status' in d or 'default' in d or 'delinquency' in d:\n",
    "        return 'status'\n",
    "    elif 'date' in d or 'month' in d:\n",
    "        return 'dates'\n",
    "    elif 'state' in d or 'zip' in d:\n",
    "        return 'geographic location'\n",
    "    else:\n",
    "        'other'"
   ]
  },
  {
   "cell_type": "markdown",
   "id": "9387e881-cee6-4282-86b3-f01bf71dd2c3",
   "metadata": {},
   "source": [
    "df_merged['business_category'] = df_merged['Description'].apply(classify_column)\n",
    "df_merged['business_Category']"
   ]
  },
  {
   "cell_type": "markdown",
   "id": "f8590a4d-238c-44d7-99f2-283c80206a82",
   "metadata": {},
   "source": [
    "df_merged.drop(columns=['business_Category'], inplace=True)\n"
   ]
  },
  {
   "cell_type": "markdown",
   "id": "9e939435-e198-4974-9d4e-b64ba9237154",
   "metadata": {},
   "source": [
    "### Saving the file as main mapping file\n"
   ]
  },
  {
   "cell_type": "markdown",
   "id": "d962030d-d6ea-4ba4-8633-a21a600d844d",
   "metadata": {},
   "source": [
    "df_merged.to_csv(\"test_mapping_master.csv\", index=False, header=True)\n"
   ]
  },
  {
   "cell_type": "markdown",
   "id": "de205b2f-99aa-4a75-8437-6f2a1ae96912",
   "metadata": {},
   "source": [
    "df_merged.to_csv(\"test_mapping_master_clean.csv\", index=False, encoding=\"utf-8\", sep=\",\")\n"
   ]
  },
  {
   "cell_type": "markdown",
   "id": "096b8852-e68d-4db9-9fe6-fd11b2dd3e79",
   "metadata": {},
   "source": [
    "### mapping the testing functions "
   ]
  },
  {
   "cell_type": "markdown",
   "id": "b9191075-336b-40bb-86b5-d3195a280ed2",
   "metadata": {},
   "source": [
    "### testing functions names:"
   ]
  },
  {
   "cell_type": "markdown",
   "id": "1ae86220-567b-4493-9e75-738bdaf21140",
   "metadata": {},
   "source": [
    "\n",
    "['check_consistency', 'check_duplicates', 'check_foreign_key', 'check_nulls', 'count_records', 'dtype_consistency', 'duplicated_files_by_name_and_size', 'duplicated_files_current_path', 'file_timeliness', 'moving_average', 'validate_allowed_values', 'validate_date_format', 'validate_date_range', 'validate_numeric_range', 'validate_sum', 'validate_values_length']\n"
   ]
  },
  {
   "cell_type": "code",
   "execution_count": null,
   "id": "8436d438-360f-4080-a363-214359a974b4",
   "metadata": {},
   "outputs": [],
   "source": []
  },
  {
   "cell_type": "code",
   "execution_count": null,
   "id": "dddfc342-32f6-4f14-a9eb-7670b888b452",
   "metadata": {},
   "outputs": [],
   "source": []
  },
  {
   "cell_type": "code",
   "execution_count": null,
   "id": "f8cd7671-a833-4f9a-88e5-8b7f126b1a65",
   "metadata": {},
   "outputs": [],
   "source": []
  },
  {
   "cell_type": "code",
   "execution_count": null,
   "id": "ca6c4556-4e15-4281-aef8-15f9b4b0c634",
   "metadata": {},
   "outputs": [],
   "source": []
  },
  {
   "cell_type": "code",
   "execution_count": null,
   "id": "84a16498-4090-4b3b-bacc-086dc0024a8a",
   "metadata": {},
   "outputs": [],
   "source": []
  },
  {
   "cell_type": "code",
   "execution_count": null,
   "id": "b845bbca-879d-441e-8b2c-745222e85b54",
   "metadata": {},
   "outputs": [],
   "source": []
  },
  {
   "cell_type": "code",
   "execution_count": null,
   "id": "8b562b7e-d64a-4c05-bb38-d2b8ea8ec078",
   "metadata": {},
   "outputs": [],
   "source": []
  }
 ],
 "metadata": {
  "kernelspec": {
   "display_name": "Python 3 (ipykernel)",
   "language": "python",
   "name": "python3"
  },
  "language_info": {
   "codemirror_mode": {
    "name": "ipython",
    "version": 3
   },
   "file_extension": ".py",
   "mimetype": "text/x-python",
   "name": "python",
   "nbconvert_exporter": "python",
   "pygments_lexer": "ipython3",
   "version": "3.12.4"
  }
 },
 "nbformat": 4,
 "nbformat_minor": 5
}
