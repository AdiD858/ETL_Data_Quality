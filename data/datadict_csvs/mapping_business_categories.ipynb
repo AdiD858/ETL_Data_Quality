{
 "cells": [
  {
   "cell_type": "code",
   "execution_count": 5,
   "id": "adfd3c3a-8aaf-4298-8556-8e8b96547ea7",
   "metadata": {},
   "outputs": [],
   "source": [
    "import pandas as pd"
   ]
  },
  {
   "cell_type": "code",
   "execution_count": 7,
   "id": "0c99973f-3170-4881-b57f-13a6abf8acbc",
   "metadata": {},
   "outputs": [],
   "source": [
    "from pyspark.sql import SparkSession\n",
    "from pyspark.sql.functions import col, count, when, isnan, countDistinct\n",
    "import pyspark.sql.functions as F"
   ]
  },
  {
   "cell_type": "code",
   "execution_count": 9,
   "id": "9e1db187-a338-4bce-9e46-ca978019da02",
   "metadata": {},
   "outputs": [],
   "source": [
    "spark = SparkSession.builder.appName(\"LoanDataQuality\").getOrCreate()"
   ]
  },
  {
   "cell_type": "code",
   "execution_count": 13,
   "id": "5c1ddfa6-6ca1-4f15-a1fe-b0f435e2a39c",
   "metadata": {},
   "outputs": [],
   "source": [
    "df_loans = spark.read.option('header','true').csv(\"LCloan_raw_data.csv\")"
   ]
  },
  {
   "cell_type": "code",
   "execution_count": 15,
   "id": "ee61ea0e-8c08-484a-9d1f-9772dba38430",
   "metadata": {},
   "outputs": [
    {
     "name": "stdout",
     "output_type": "stream",
     "text": [
      "num of columns: 145\n"
     ]
    }
   ],
   "source": [
    "print(\"num of columns:\", len(df_loans.columns))\n"
   ]
  },
  {
   "cell_type": "code",
   "execution_count": 17,
   "id": "51e5aa0d-e8c9-45a1-9239-48d9377b6374",
   "metadata": {},
   "outputs": [],
   "source": [
    "spark_schema = dict(df_loans.dtypes)"
   ]
  },
  {
   "cell_type": "code",
   "execution_count": 19,
   "id": "74c0c269-668d-4249-b308-c557add247c8",
   "metadata": {},
   "outputs": [],
   "source": [
    "loans_mapping_spark = spark.read.csv('updated_loans_mapping.csv', header=True, inferSchema=True)"
   ]
  },
  {
   "cell_type": "code",
   "execution_count": 21,
   "id": "af9d471f-799b-4db2-9d43-7bf26687b507",
   "metadata": {},
   "outputs": [],
   "source": [
    "loans_mapping = pd.read_csv('updated_loans_mapping.csv')"
   ]
  },
  {
   "cell_type": "code",
   "execution_count": 25,
   "id": "3d188dec-9002-44c5-834e-702bd05312dd",
   "metadata": {},
   "outputs": [
    {
     "data": {
      "text/html": [
       "<div>\n",
       "<style scoped>\n",
       "    .dataframe tbody tr th:only-of-type {\n",
       "        vertical-align: middle;\n",
       "    }\n",
       "\n",
       "    .dataframe tbody tr th {\n",
       "        vertical-align: top;\n",
       "    }\n",
       "\n",
       "    .dataframe thead th {\n",
       "        text-align: right;\n",
       "    }\n",
       "</style>\n",
       "<table border=\"1\" class=\"dataframe\">\n",
       "  <thead>\n",
       "    <tr style=\"text-align: right;\">\n",
       "      <th></th>\n",
       "      <th>column_name</th>\n",
       "      <th>Description</th>\n",
       "      <th>source_sheet</th>\n",
       "      <th>type_status</th>\n",
       "      <th>column_type</th>\n",
       "      <th>is_required</th>\n",
       "      <th>actual_column_in_loans</th>\n",
       "    </tr>\n",
       "  </thead>\n",
       "  <tbody>\n",
       "    <tr>\n",
       "      <th>0</th>\n",
       "      <td>amount requested</td>\n",
       "      <td>The total amount requested by the borrower</td>\n",
       "      <td>RejectStats</td>\n",
       "      <td>not_in_file</td>\n",
       "      <td>NaN</td>\n",
       "      <td>False</td>\n",
       "      <td>NaN</td>\n",
       "    </tr>\n",
       "    <tr>\n",
       "      <th>1</th>\n",
       "      <td>application date</td>\n",
       "      <td>The date which the borrower applied</td>\n",
       "      <td>RejectStats</td>\n",
       "      <td>not_in_file</td>\n",
       "      <td>NaN</td>\n",
       "      <td>False</td>\n",
       "      <td>NaN</td>\n",
       "    </tr>\n",
       "    <tr>\n",
       "      <th>2</th>\n",
       "      <td>loan title</td>\n",
       "      <td>The loan title provided by the borrower</td>\n",
       "      <td>RejectStats</td>\n",
       "      <td>not_in_file</td>\n",
       "      <td>NaN</td>\n",
       "      <td>False</td>\n",
       "      <td>NaN</td>\n",
       "    </tr>\n",
       "    <tr>\n",
       "      <th>3</th>\n",
       "      <td>risk_score</td>\n",
       "      <td>For applications prior to November 5, 2013 the...</td>\n",
       "      <td>RejectStats</td>\n",
       "      <td>not_in_file</td>\n",
       "      <td>NaN</td>\n",
       "      <td>False</td>\n",
       "      <td>NaN</td>\n",
       "    </tr>\n",
       "    <tr>\n",
       "      <th>4</th>\n",
       "      <td>debt-to-income ratio</td>\n",
       "      <td>A ratio calculated using the borrower’s total ...</td>\n",
       "      <td>RejectStats</td>\n",
       "      <td>not_in_file</td>\n",
       "      <td>NaN</td>\n",
       "      <td>False</td>\n",
       "      <td>NaN</td>\n",
       "    </tr>\n",
       "  </tbody>\n",
       "</table>\n",
       "</div>"
      ],
      "text/plain": [
       "            column_name                                        Description  \\\n",
       "0      amount requested         The total amount requested by the borrower   \n",
       "1      application date               The date which the borrower applied    \n",
       "2            loan title            The loan title provided by the borrower   \n",
       "3            risk_score  For applications prior to November 5, 2013 the...   \n",
       "4  debt-to-income ratio  A ratio calculated using the borrower’s total ...   \n",
       "\n",
       "  source_sheet  type_status column_type  is_required actual_column_in_loans  \n",
       "0  RejectStats  not_in_file         NaN        False                    NaN  \n",
       "1  RejectStats  not_in_file         NaN        False                    NaN  \n",
       "2  RejectStats  not_in_file         NaN        False                    NaN  \n",
       "3  RejectStats  not_in_file         NaN        False                    NaN  \n",
       "4  RejectStats  not_in_file         NaN        False                    NaN  "
      ]
     },
     "execution_count": 25,
     "metadata": {},
     "output_type": "execute_result"
    }
   ],
   "source": [
    "loans_mapping.head()"
   ]
  },
  {
   "cell_type": "code",
   "execution_count": 71,
   "id": "a8bfa76c-65f6-4f06-8c12-fe7a73e91bef",
   "metadata": {},
   "outputs": [],
   "source": [
    "# business category mapping function\n",
    "def map_business_category(col_name):\n",
    "    col = col_name.lower()\n",
    "    \n",
    "\n",
    "    if any(keyword in col for keyword in ['loan', 'application', 'purpose', 'policy']):\n",
    "        return 'loan_info'\n",
    "    elif any(keyword in col for keyword in ['fico', 'delinq', 'inq', 'credit', 'risk']):\n",
    "        return 'credit_info'\n",
    "    elif any(keyword in col for keyword in ['income', 'amount', 'balance', 'funded', 'bc_util', 'cur_bal']):\n",
    "        return 'financial_metrics'\n",
    "    elif any(keyword in col for keyword in ['pymnt', 'installment', 'total', 'rec', 'out_prncp']):\n",
    "        return 'payment_info'\n",
    "\n",
    "    elif any(keyword in col for keyword in ['emp', 'job', 'employer', 'title']):\n",
    "        return 'employment_info'\n",
    "    elif any(keyword in col for keyword in ['date', 'month', 'issue', 'last', 'start', 'end']):\n",
    "        return 'dates'\n",
    "    elif any(keyword in col for keyword in ['state', 'zip', 'addr']):\n",
    "        return 'geographic_info'\n",
    "    elif any(keyword in col for keyword in ['hardship', 'settlement', 'debt', 'deferral']):\n",
    "        return 'special_cases'\n",
    "    else:\n",
    "        return 'other'\n"
   ]
  },
  {
   "cell_type": "code",
   "execution_count": 75,
   "id": "4d69d65c-4783-464d-b37f-796325633a77",
   "metadata": {},
   "outputs": [],
   "source": [
    "loans_mapping['business_category'] = loans_mapping['Description'].apply(map_business_category)"
   ]
  },
  {
   "cell_type": "code",
   "execution_count": 77,
   "id": "e479f12a-6658-4532-a7ce-874b2f29f001",
   "metadata": {},
   "outputs": [
    {
     "name": "stdout",
     "output_type": "stream",
     "text": [
      "                             column_name  business_category\n",
      "0                       amount requested  financial_metrics\n",
      "1                       application date              dates\n",
      "2                             loan title          loan_info\n",
      "3                             risk_score          loan_info\n",
      "4                   debt-to-income ratio          loan_info\n",
      "..                                   ...                ...\n",
      "275                sec_app_num_rev_accts          loan_info\n",
      "276     sec_app_chargeoff_within_12_mths          loan_info\n",
      "277   sec_app_collections_12_mths_ex_med          loan_info\n",
      "278  sec_app_mths_since_last_major_derog          loan_info\n",
      "279                  disbursement_method          loan_info\n",
      "\n",
      "[280 rows x 2 columns]\n"
     ]
    }
   ],
   "source": [
    "print(loans_mapping[['column_name', 'business_category']])"
   ]
  },
  {
   "cell_type": "code",
   "execution_count": 79,
   "id": "8c7c028d-f7db-4f67-bb44-6cbf0b9cdd2e",
   "metadata": {},
   "outputs": [
    {
     "data": {
      "text/plain": [
       "31"
      ]
     },
     "execution_count": 79,
     "metadata": {},
     "output_type": "execute_result"
    }
   ],
   "source": [
    "len(loans_mapping[loans_mapping['business_category'] == 'other'])"
   ]
  },
  {
   "cell_type": "code",
   "execution_count": 81,
   "id": "e0691f0f-0ec8-4be5-9d03-8b63e06f77ea",
   "metadata": {},
   "outputs": [],
   "source": [
    "loans_mapping.to_csv(\"new_loans_mapping.csv\", index=False, encoding=\"utf-8-sig\")\n"
   ]
  },
  {
   "cell_type": "markdown",
   "id": "be3e789c-959f-4590-8774-f0525500563e",
   "metadata": {},
   "source": [
    "### trying a few test cases before mapping check type"
   ]
  },
  {
   "cell_type": "code",
   "execution_count": 83,
   "id": "226a5370-6a3c-4eff-8bf1-e8b759511e70",
   "metadata": {},
   "outputs": [],
   "source": [
    "def check_nulls(df,column_name):\n",
    "    logs = \"\"\n",
    "    null_count = df.filter(col(column_name).isNull()).count() # counting the null values\n",
    "    if null_count > 0:\n",
    "        logs += f\"Column '{column_name}' contains {null_count} null value(s).\"\n",
    "        return True, logs\n",
    "    else:\n",
    "        logs += f\"Column '{column_name}' does not contain any null values.\"\n",
    "        return False, logs"
   ]
  },
  {
   "cell_type": "code",
   "execution_count": 85,
   "id": "28eb4ed7-8b54-4dde-a613-2ac9f658a77c",
   "metadata": {},
   "outputs": [
    {
     "data": {
      "text/plain": [
       "(True, \"Column 'title' contains 23323 null value(s).\")"
      ]
     },
     "execution_count": 85,
     "metadata": {},
     "output_type": "execute_result"
    }
   ],
   "source": [
    "check_nulls(df_loans,'title')"
   ]
  },
  {
   "cell_type": "code",
   "execution_count": 94,
   "id": "4fb34c46-ad05-4037-9420-f484dfc031d1",
   "metadata": {},
   "outputs": [],
   "source": [
    "def count_records(df, expected_records_num):\n",
    "    \"\"\"\n",
    "    :param: df: spark data frame of the parquet file\n",
    "    :param: expected_records_num: expected number of records\n",
    "    \"\"\"\n",
    "    logs = \"\"  # Initialize logs list\n",
    "    records_count = df.count()\n",
    "    logs+= f\"Num of records in the file: {records_count}\"\n",
    "\n",
    "    if records_count == expected_records_num:\n",
    "        logs+= f\"Success: the DataFrame has the expected number of records: {expected_records_num}\"\n",
    "        return True,logs\n",
    "    else:\n",
    "        logs+= f\" Mismatch: the DatatFrame has {records_count} records, but {expected_records_num} were expected.\"\n",
    "        return False, logs"
   ]
  },
  {
   "cell_type": "code",
   "execution_count": 96,
   "id": "2e1c1dbf-266a-4ae4-b71e-373470c9c248",
   "metadata": {},
   "outputs": [
    {
     "data": {
      "text/plain": [
       "(False,\n",
       " 'Num of records in the file: 2260668 Mismatch: the DatatFrame has 2260668 records, but 800000 were expected.')"
      ]
     },
     "execution_count": 96,
     "metadata": {},
     "output_type": "execute_result"
    }
   ],
   "source": [
    "count_records(df_loans, 800000)"
   ]
  },
  {
   "cell_type": "code",
   "execution_count": 98,
   "id": "099ce876-a45a-406b-a273-3fb1fa32ad3b",
   "metadata": {},
   "outputs": [],
   "source": [
    "def check_duplicates(df, key_columns):\n",
    "    logs_value = \"\"\n",
    "    \n",
    "    # Step 1: Group by the key columns and count occurrences\n",
    "    grouped_df = df.groupBy(key_columns).count()\n",
    "    \n",
    "    # Step 2: Filter rows where the count is greater than 1 (these are duplicates)\n",
    "    duplicates = grouped_df.filter(col(\"count\") > 1)\n",
    "    \n",
    "    # Check if any duplicates were found\n",
    "    if duplicates.count() > 0:\n",
    "        # Collect duplicate records for logging\n",
    "        duplicates_list = duplicates.collect()\n",
    "        logs_value += f\"Duplicate records found based on keys {key_columns}: {len(duplicates_list)} duplicates.\"\n",
    "        return True, logs_value\n",
    "    else:\n",
    "        logs_value += \"No duplicates found in the specified key columns.\"\n",
    "        return False, logs_value"
   ]
  },
  {
   "cell_type": "code",
   "execution_count": 106,
   "id": "4d999065-2760-4884-898a-1e98862f18dc",
   "metadata": {},
   "outputs": [
    {
     "data": {
      "text/plain": [
       "['id',\n",
       " 'member_id',\n",
       " 'loan_amnt',\n",
       " 'funded_amnt',\n",
       " 'funded_amnt_inv',\n",
       " 'term',\n",
       " 'int_rate',\n",
       " 'installment',\n",
       " 'grade',\n",
       " 'sub_grade',\n",
       " 'emp_title',\n",
       " 'emp_length',\n",
       " 'home_ownership',\n",
       " 'annual_inc',\n",
       " 'verification_status',\n",
       " 'issue_d',\n",
       " 'loan_status',\n",
       " 'pymnt_plan',\n",
       " 'url',\n",
       " 'desc',\n",
       " 'purpose',\n",
       " 'title',\n",
       " 'zip_code',\n",
       " 'addr_state',\n",
       " 'dti',\n",
       " 'delinq_2yrs',\n",
       " 'earliest_cr_line',\n",
       " 'inq_last_6mths',\n",
       " 'mths_since_last_delinq',\n",
       " 'mths_since_last_record',\n",
       " 'open_acc',\n",
       " 'pub_rec',\n",
       " 'revol_bal',\n",
       " 'revol_util',\n",
       " 'total_acc',\n",
       " 'initial_list_status',\n",
       " 'out_prncp',\n",
       " 'out_prncp_inv',\n",
       " 'total_pymnt',\n",
       " 'total_pymnt_inv',\n",
       " 'total_rec_prncp',\n",
       " 'total_rec_int',\n",
       " 'total_rec_late_fee',\n",
       " 'recoveries',\n",
       " 'collection_recovery_fee',\n",
       " 'last_pymnt_d',\n",
       " 'last_pymnt_amnt',\n",
       " 'next_pymnt_d',\n",
       " 'last_credit_pull_d',\n",
       " 'collections_12_mths_ex_med',\n",
       " 'mths_since_last_major_derog',\n",
       " 'policy_code',\n",
       " 'application_type',\n",
       " 'annual_inc_joint',\n",
       " 'dti_joint',\n",
       " 'verification_status_joint',\n",
       " 'acc_now_delinq',\n",
       " 'tot_coll_amt',\n",
       " 'tot_cur_bal',\n",
       " 'open_acc_6m',\n",
       " 'open_act_il',\n",
       " 'open_il_12m',\n",
       " 'open_il_24m',\n",
       " 'mths_since_rcnt_il',\n",
       " 'total_bal_il',\n",
       " 'il_util',\n",
       " 'open_rv_12m',\n",
       " 'open_rv_24m',\n",
       " 'max_bal_bc',\n",
       " 'all_util',\n",
       " 'total_rev_hi_lim',\n",
       " 'inq_fi',\n",
       " 'total_cu_tl',\n",
       " 'inq_last_12m',\n",
       " 'acc_open_past_24mths',\n",
       " 'avg_cur_bal',\n",
       " 'bc_open_to_buy',\n",
       " 'bc_util',\n",
       " 'chargeoff_within_12_mths',\n",
       " 'delinq_amnt',\n",
       " 'mo_sin_old_il_acct',\n",
       " 'mo_sin_old_rev_tl_op',\n",
       " 'mo_sin_rcnt_rev_tl_op',\n",
       " 'mo_sin_rcnt_tl',\n",
       " 'mort_acc',\n",
       " 'mths_since_recent_bc',\n",
       " 'mths_since_recent_bc_dlq',\n",
       " 'mths_since_recent_inq',\n",
       " 'mths_since_recent_revol_delinq',\n",
       " 'num_accts_ever_120_pd',\n",
       " 'num_actv_bc_tl',\n",
       " 'num_actv_rev_tl',\n",
       " 'num_bc_sats',\n",
       " 'num_bc_tl',\n",
       " 'num_il_tl',\n",
       " 'num_op_rev_tl',\n",
       " 'num_rev_accts',\n",
       " 'num_rev_tl_bal_gt_0',\n",
       " 'num_sats',\n",
       " 'num_tl_120dpd_2m',\n",
       " 'num_tl_30dpd',\n",
       " 'num_tl_90g_dpd_24m',\n",
       " 'num_tl_op_past_12m',\n",
       " 'pct_tl_nvr_dlq',\n",
       " 'percent_bc_gt_75',\n",
       " 'pub_rec_bankruptcies',\n",
       " 'tax_liens',\n",
       " 'tot_hi_cred_lim',\n",
       " 'total_bal_ex_mort',\n",
       " 'total_bc_limit',\n",
       " 'total_il_high_credit_limit',\n",
       " 'revol_bal_joint',\n",
       " 'sec_app_earliest_cr_line',\n",
       " 'sec_app_inq_last_6mths',\n",
       " 'sec_app_mort_acc',\n",
       " 'sec_app_open_acc',\n",
       " 'sec_app_revol_util',\n",
       " 'sec_app_open_act_il',\n",
       " 'sec_app_num_rev_accts',\n",
       " 'sec_app_chargeoff_within_12_mths',\n",
       " 'sec_app_collections_12_mths_ex_med',\n",
       " 'sec_app_mths_since_last_major_derog',\n",
       " 'hardship_flag',\n",
       " 'hardship_type',\n",
       " 'hardship_reason',\n",
       " 'hardship_status',\n",
       " 'deferral_term',\n",
       " 'hardship_amount',\n",
       " 'hardship_start_date',\n",
       " 'hardship_end_date',\n",
       " 'payment_plan_start_date',\n",
       " 'hardship_length',\n",
       " 'hardship_dpd',\n",
       " 'hardship_loan_status',\n",
       " 'orig_projected_additional_accrued_interest',\n",
       " 'hardship_payoff_balance_amount',\n",
       " 'hardship_last_payment_amount',\n",
       " 'disbursement_method',\n",
       " 'debt_settlement_flag',\n",
       " 'debt_settlement_flag_date',\n",
       " 'settlement_status',\n",
       " 'settlement_date',\n",
       " 'settlement_amount',\n",
       " 'settlement_percentage',\n",
       " 'settlement_term']"
      ]
     },
     "execution_count": 106,
     "metadata": {},
     "output_type": "execute_result"
    }
   ],
   "source": [
    "df_loans.columns"
   ]
  },
  {
   "cell_type": "code",
   "execution_count": 110,
   "id": "b0623582-fdca-41bd-986e-8bdf7f333cad",
   "metadata": {},
   "outputs": [
    {
     "data": {
      "text/plain": [
       "(True,\n",
       " \"Duplicate records found based on keys ['loan_amnt', 'funded_amnt']: 1852 duplicates.\")"
      ]
     },
     "execution_count": 110,
     "metadata": {},
     "output_type": "execute_result"
    }
   ],
   "source": [
    "check_duplicates(df_loans, [\n",
    " 'loan_amnt',\n",
    " 'funded_amnt'])"
   ]
  },
  {
   "cell_type": "code",
   "execution_count": 112,
   "id": "51071f14-3044-4ea9-968e-590b0a655817",
   "metadata": {},
   "outputs": [],
   "source": [
    "def compute_column_checksum(df, col_name):\n",
    "    \"\"\"\n",
    "   checksum - compute sum of the hash values in each column .\n",
    "    \"\"\"\n",
    "    # comput sum in each column and perform hash\n",
    "    checksum = df.select(F.sum(F.hash(F.col(col_name))).alias(\"checksum\")).collect()[0][\"checksum\"]\n",
    "    return checksum\n",
    "\n",
    "def find_duplicate_columns(df):\n",
    "    \"\"\"\n",
    " scan all columns in df and return dictionary with checsum as key, and list with same checksum as the value.\n",
    " if the columns has same checksum - they are duplicated.\n",
    "    \"\"\"\n",
    "    checksums = {}\n",
    "    duplicates = {}\n",
    "\n",
    "    for col_name in df.columns:\n",
    "        cs = compute_column_checksum(df, col_name)\n",
    "        if cs in checksums:\n",
    "            # אם כבר קיימת עמודה עם אותו checksum, נוסיף את השם לרשימה\n",
    "            duplicates.setdefault(cs, [checksums[cs]]).append(col_name)\n",
    "        else:\n",
    "            checksums[cs] = col_name\n",
    "\n",
    "    # סינון – רק אותם checksum שמופיע יותר מפעם אחת\n",
    "    duplicates = {cs: cols for cs, cols in duplicates.items() if len(cols) > 1}\n",
    "    return duplicates"
   ]
  },
  {
   "cell_type": "code",
   "execution_count": null,
   "id": "80957721-66e1-4db2-99a6-3d03a9997804",
   "metadata": {},
   "outputs": [],
   "source": [
    "find_duplicate_columns(df_loans)"
   ]
  },
  {
   "cell_type": "code",
   "execution_count": null,
   "id": "e5f349df-b180-406a-807c-433b7fabd4a7",
   "metadata": {},
   "outputs": [],
   "source": [
    "spark.stop()"
   ]
  },
  {
   "cell_type": "markdown",
   "id": "b34335f3-6969-4dce-ac36-fa858bf88b22",
   "metadata": {},
   "source": [
    "### Mapping check type"
   ]
  },
  {
   "cell_type": "code",
   "execution_count": null,
   "id": "c2baab1f-098b-40cf-9143-6cb4973db9cf",
   "metadata": {},
   "outputs": [],
   "source": []
  },
  {
   "cell_type": "code",
   "execution_count": null,
   "id": "2385e9cf-e7e5-4e31-b013-0eb915d5785c",
   "metadata": {},
   "outputs": [],
   "source": []
  },
  {
   "cell_type": "code",
   "execution_count": null,
   "id": "d86fefb5-a847-4ef5-bfcf-6d477f313aa2",
   "metadata": {},
   "outputs": [],
   "source": []
  },
  {
   "cell_type": "code",
   "execution_count": null,
   "id": "d7d13f40-e3dd-416e-81e0-6216365219e6",
   "metadata": {},
   "outputs": [],
   "source": []
  },
  {
   "cell_type": "code",
   "execution_count": null,
   "id": "bdf03425-6ae2-40c4-aef0-c5e0ab6b5608",
   "metadata": {},
   "outputs": [],
   "source": []
  },
  {
   "cell_type": "code",
   "execution_count": null,
   "id": "ee18b230-d3d4-4e42-9b07-71c46094fd93",
   "metadata": {},
   "outputs": [],
   "source": []
  },
  {
   "cell_type": "code",
   "execution_count": null,
   "id": "2e66df09-3236-481d-9f0a-0d9ebfb7959f",
   "metadata": {},
   "outputs": [],
   "source": []
  },
  {
   "cell_type": "code",
   "execution_count": null,
   "id": "b929b990-f376-4613-b61f-3363edb1b390",
   "metadata": {},
   "outputs": [],
   "source": []
  },
  {
   "cell_type": "markdown",
   "id": "7ffb7359-dca9-49c7-9e05-9b048e901e5a",
   "metadata": {},
   "source": [
    "df_merged[\"test_function\"] = \"\"\n",
    "df_merged[\"test_type\"] = \"\"\n",
    "df_merged[\"required\"] = \"\"\n",
    "df_merged[\"business_category\"] = \"\"\n"
   ]
  },
  {
   "cell_type": "code",
   "execution_count": 61,
   "id": "f7486c0d-d9fc-4ace-b04f-e347021b3264",
   "metadata": {},
   "outputs": [],
   "source": []
  },
  {
   "cell_type": "markdown",
   "id": "9387e881-cee6-4282-86b3-f01bf71dd2c3",
   "metadata": {},
   "source": [
    "df_merged['business_category'] = df_merged['Description'].apply(classify_column)\n",
    "df_merged['business_Category']"
   ]
  },
  {
   "cell_type": "markdown",
   "id": "f8590a4d-238c-44d7-99f2-283c80206a82",
   "metadata": {},
   "source": [
    "df_merged.drop(columns=['business_Category'], inplace=True)\n"
   ]
  },
  {
   "cell_type": "markdown",
   "id": "9e939435-e198-4974-9d4e-b64ba9237154",
   "metadata": {},
   "source": [
    "### Saving the file as main mapping file\n"
   ]
  },
  {
   "cell_type": "markdown",
   "id": "d962030d-d6ea-4ba4-8633-a21a600d844d",
   "metadata": {},
   "source": [
    "df_merged.to_csv(\"test_mapping_master.csv\", index=False, header=True)\n"
   ]
  },
  {
   "cell_type": "markdown",
   "id": "de205b2f-99aa-4a75-8437-6f2a1ae96912",
   "metadata": {},
   "source": [
    "df_merged.to_csv(\"test_mapping_master_clean.csv\", index=False, encoding=\"utf-8\", sep=\",\")\n"
   ]
  },
  {
   "cell_type": "markdown",
   "id": "096b8852-e68d-4db9-9fe6-fd11b2dd3e79",
   "metadata": {},
   "source": [
    "### mapping the testing functions "
   ]
  },
  {
   "cell_type": "markdown",
   "id": "b9191075-336b-40bb-86b5-d3195a280ed2",
   "metadata": {},
   "source": [
    "### testing functions names:"
   ]
  },
  {
   "cell_type": "markdown",
   "id": "1ae86220-567b-4493-9e75-738bdaf21140",
   "metadata": {},
   "source": [
    "\n",
    "['check_consistency', 'check_duplicates', 'check_foreign_key', 'check_nulls', 'count_records', 'dtype_consistency', 'duplicated_files_by_name_and_size', 'duplicated_files_current_path', 'file_timeliness', 'moving_average', 'validate_allowed_values', 'validate_date_format', 'validate_date_range', 'validate_numeric_range', 'validate_sum', 'validate_values_length']\n"
   ]
  },
  {
   "cell_type": "code",
   "execution_count": null,
   "id": "8436d438-360f-4080-a363-214359a974b4",
   "metadata": {},
   "outputs": [],
   "source": []
  },
  {
   "cell_type": "code",
   "execution_count": null,
   "id": "dddfc342-32f6-4f14-a9eb-7670b888b452",
   "metadata": {},
   "outputs": [],
   "source": []
  },
  {
   "cell_type": "code",
   "execution_count": null,
   "id": "f8cd7671-a833-4f9a-88e5-8b7f126b1a65",
   "metadata": {},
   "outputs": [],
   "source": []
  },
  {
   "cell_type": "code",
   "execution_count": null,
   "id": "ca6c4556-4e15-4281-aef8-15f9b4b0c634",
   "metadata": {},
   "outputs": [],
   "source": []
  },
  {
   "cell_type": "code",
   "execution_count": null,
   "id": "84a16498-4090-4b3b-bacc-086dc0024a8a",
   "metadata": {},
   "outputs": [],
   "source": []
  },
  {
   "cell_type": "code",
   "execution_count": null,
   "id": "b845bbca-879d-441e-8b2c-745222e85b54",
   "metadata": {},
   "outputs": [],
   "source": []
  },
  {
   "cell_type": "code",
   "execution_count": null,
   "id": "8b562b7e-d64a-4c05-bb38-d2b8ea8ec078",
   "metadata": {},
   "outputs": [],
   "source": []
  }
 ],
 "metadata": {
  "kernelspec": {
   "display_name": "Python 3 (ipykernel)",
   "language": "python",
   "name": "python3"
  },
  "language_info": {
   "codemirror_mode": {
    "name": "ipython",
    "version": 3
   },
   "file_extension": ".py",
   "mimetype": "text/x-python",
   "name": "python",
   "nbconvert_exporter": "python",
   "pygments_lexer": "ipython3",
   "version": "3.12.4"
  }
 },
 "nbformat": 4,
 "nbformat_minor": 5
}
